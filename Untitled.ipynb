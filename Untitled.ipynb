{
 "cells": [
  {
   "cell_type": "markdown",
   "metadata": {},
   "source": [
    "## 生成一个数组，计算样本标准差\n",
    "ddof=1表示除以n-1，而计算总体标准差时使用ddof默认值0，表示除以n"
   ]
  },
  {
   "cell_type": "code",
   "execution_count": 2,
   "metadata": {},
   "outputs": [
    {
     "name": "stdout",
     "output_type": "stream",
     "text": [
      "The standard deviation of the numbers from 1 to 10 is 3.03\n"
     ]
    }
   ],
   "source": [
    "import numpy as np\n",
    "x = np.arange(1,11)\n",
    "print('The standard deviation of the numbers from 1 to 10 is {0:4.2f}'.format(np.std(x, ddof=1)))"
   ]
  },
  {
   "cell_type": "markdown",
   "metadata": {},
   "source": [
    "## 生成均值为5，标准差为3的正态分布\n",
    "* 生成1000个数据\n",
    "* 计算这些数据均值的标准差\n",
    "* 绘制这些数据的直方图\n",
    "* 使用pdf(概率密度函数)计算95%的区间"
   ]
  },
  {
   "cell_type": "code",
   "execution_count": 18,
   "metadata": {},
   "outputs": [
    {
     "name": "stdout",
     "output_type": "stream",
     "text": [
      "The standard error is 0.09229524836064479\n"
     ]
    },
    {
     "data": {
      "image/png": "[encoded data removed]",
      "text/plain": [
       "<Figure size 432x288 with 1 Axes>"
      ]
     },
     "metadata": {
      "needs_background": "light"
     },
     "output_type": "display_data"
    },
    {
     "name": "stdout",
     "output_type": "stream",
     "text": [
      "95% Confidence interval: -0.88 - 10.88\n",
      "The required SD to fulfill both requirements = 0.3039 mm\n"
     ]
    }
   ],
   "source": [
    "from scipy import stats\n",
    "import matplotlib.pyplot as plt\n",
    "\n",
    "nd = stats.norm(5,3)\n",
    "data = nd.rvs(1000)\n",
    "se = np.std(data, ddof=1)/np.sqrt(1000)\n",
    "print('The standard error is {0}'.format(se))\n",
    "\n",
    "plt.hist(data)\n",
    "plt.show()\n",
    "\n",
    "print('95% Confidence interval: {0:4.2f} - {1:4.2f}'.format(nd.ppf(0.025), nd.ppf(0.975)))\n",
    "\n",
    "nd = stats.norm()\n",
    "numSDs = nd.isf(0.0005)\n",
    "tolerance = 1/numSDs\n",
    "print('The required SD to fulfill both requirements = {0:6.4f} mm'.format(tolerance))"
   ]
  },
  {
   "cell_type": "markdown",
   "metadata": {},
   "source": [
    "## 根据数据计算均值与均值99%的置信区间"
   ]
  },
  {
   "cell_type": "code",
   "execution_count": 20,
   "metadata": {},
   "outputs": [
    {
     "name": "stdout",
     "output_type": "stream",
     "text": [
      "17.162056903012893\n",
      "mean +/- 99%CI = 68.0 +/- 17.2\n"
     ]
    }
   ],
   "source": [
    "x = [52, 70, 65, 85, 62, 83, 59]\n",
    "td = stats.t(len(x)-1)\n",
    "alpha = 0.01\n",
    "tval = abs( td.ppf(alpha/2)*stats.sem(x) )\n",
    "print('mean +/- 99%CI = {0:3.1f} +/- {1:3.1f}'.format(np.mean(x),tval))"
   ]
  },
  {
   "cell_type": "code",
   "execution_count": null,
   "metadata": {},
   "outputs": [],
   "source": []
  }
 ],
 "metadata": {
  "kernelspec": {
   "display_name": "Python 3",
   "language": "python",
   "name": "python3"
  },
  "language_info": {
   "codemirror_mode": {
    "name": "ipython",
    "version": 3
   },
   "file_extension": ".py",
   "mimetype": "text/x-python",
   "name": "python",
   "nbconvert_exporter": "python",
   "pygments_lexer": "ipython3",
   "version": "3.7.0"
  }
 },
 "nbformat": 4,
 "nbformat_minor": 2
}
